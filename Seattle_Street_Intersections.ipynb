{
 "cells": [
  {
   "cell_type": "markdown",
   "metadata": {},
   "source": [
    "## Analyzing the connection between yellow light timing, accidents, and road grades in Seattle\n",
    "The Seattle open government data site (https://data.seattle.gov/) has several datasets which could be analyzed and potentially used to create a positive impact.  One particularly interesting dataset describes vehicle accidents over the last 5 years in the city of Seattle (https://data.seattle.gov/Public-Safety/Traffic-Accidents/7ayk-pspk)"
   ]
  },
  {
   "cell_type": "code",
   "execution_count": 1,
   "metadata": {
    "collapsed": false
   },
   "outputs": [
    {
     "name": "stdout",
     "output_type": "stream",
     "text": [
      "Index([u'INCKEY', u'COLDETKEY', u'ADDRTYPE', u'COLLISIONTYPE', u'DISTANCE',\n",
      "       u'EXCEPTRSNCODE', u'EXCEPTRSNDESC', u'FATALITIES', u'INATTENTIONIND',\n",
      "       u'INCDATE', u'INCDTTM', u'INJURIES', u'INTKEY', u'JUNCTIONTYPE',\n",
      "       u'LIGHTCOND', u'LOCATION', u'PEDCOUNT', u'PEDCYLCOUNT',\n",
      "       u'PEDROWNOTGRNT', u'PERSONCOUNT', u'REPORTNO', u'ROADCOND',\n",
      "       u'SDOT_COLCODE', u'SDOT_COLDESC', u'SDOTCOLNUM', u'SEGKEY',\n",
      "       u'SERIOUSINJURIES', u'SEVERITYCODE', u'SEVERITYDESC', u'SPEEDING',\n",
      "       u'ST_COLCODE', u'ST_COLDESC', u'STATUS', u'UNDERINFL', u'VEHCOUNT',\n",
      "       u'WEATHER', u'WIDTH', u'Shape', u'SEGLANEKEY', u'CROSSWALKKEY',\n",
      "       u'HITPARKEDCAR', u'SPDCASENO'],\n",
      "      dtype='object')\n"
     ]
    },
    {
     "data": {
      "text/html": [
       "<div>\n",
       "<table border=\"1\" class=\"dataframe\">\n",
       "  <thead>\n",
       "    <tr style=\"text-align: right;\">\n",
       "      <th></th>\n",
       "      <th>INCKEY</th>\n",
       "      <th>COLDETKEY</th>\n",
       "      <th>ADDRTYPE</th>\n",
       "      <th>COLLISIONTYPE</th>\n",
       "      <th>DISTANCE</th>\n",
       "      <th>EXCEPTRSNCODE</th>\n",
       "      <th>EXCEPTRSNDESC</th>\n",
       "      <th>FATALITIES</th>\n",
       "      <th>INATTENTIONIND</th>\n",
       "      <th>INCDATE</th>\n",
       "      <th>...</th>\n",
       "      <th>STATUS</th>\n",
       "      <th>UNDERINFL</th>\n",
       "      <th>VEHCOUNT</th>\n",
       "      <th>WEATHER</th>\n",
       "      <th>WIDTH</th>\n",
       "      <th>Shape</th>\n",
       "      <th>SEGLANEKEY</th>\n",
       "      <th>CROSSWALKKEY</th>\n",
       "      <th>HITPARKEDCAR</th>\n",
       "      <th>SPDCASENO</th>\n",
       "    </tr>\n",
       "    <tr>\n",
       "      <th>OBJECTID</th>\n",
       "      <th></th>\n",
       "      <th></th>\n",
       "      <th></th>\n",
       "      <th></th>\n",
       "      <th></th>\n",
       "      <th></th>\n",
       "      <th></th>\n",
       "      <th></th>\n",
       "      <th></th>\n",
       "      <th></th>\n",
       "      <th></th>\n",
       "      <th></th>\n",
       "      <th></th>\n",
       "      <th></th>\n",
       "      <th></th>\n",
       "      <th></th>\n",
       "      <th></th>\n",
       "      <th></th>\n",
       "      <th></th>\n",
       "      <th></th>\n",
       "      <th></th>\n",
       "    </tr>\n",
       "  </thead>\n",
       "  <tbody>\n",
       "    <tr>\n",
       "      <th>1</th>\n",
       "      <td>113860</td>\n",
       "      <td>113860</td>\n",
       "      <td>Block</td>\n",
       "      <td>Other</td>\n",
       "      <td>161.0</td>\n",
       "      <td>NaN</td>\n",
       "      <td>NaN</td>\n",
       "      <td>0</td>\n",
       "      <td>NaN</td>\n",
       "      <td>06/30/2010 12:00:00 AM +0000</td>\n",
       "      <td>...</td>\n",
       "      <td>Matched</td>\n",
       "      <td>N</td>\n",
       "      <td>2</td>\n",
       "      <td>Clear or Partly Cloudy</td>\n",
       "      <td>0</td>\n",
       "      <td>(47.605141668000044, -122.33281320099996)</td>\n",
       "      <td>0</td>\n",
       "      <td>0</td>\n",
       "      <td>N</td>\n",
       "      <td>10-222469</td>\n",
       "    </tr>\n",
       "    <tr>\n",
       "      <th>2</th>\n",
       "      <td>113859</td>\n",
       "      <td>113859</td>\n",
       "      <td>Intersection</td>\n",
       "      <td>Pedestrian</td>\n",
       "      <td>0.0</td>\n",
       "      <td></td>\n",
       "      <td>NaN</td>\n",
       "      <td>0</td>\n",
       "      <td>NaN</td>\n",
       "      <td>06/03/2010 12:00:00 AM +0000</td>\n",
       "      <td>...</td>\n",
       "      <td>Matched</td>\n",
       "      <td>N</td>\n",
       "      <td>1</td>\n",
       "      <td>Clear or Partly Cloudy</td>\n",
       "      <td>0</td>\n",
       "      <td>(47.616802233000044, -122.34437532899994)</td>\n",
       "      <td>0</td>\n",
       "      <td>522632</td>\n",
       "      <td>N</td>\n",
       "      <td>10-184864</td>\n",
       "    </tr>\n",
       "    <tr>\n",
       "      <th>3</th>\n",
       "      <td>114135</td>\n",
       "      <td>114135</td>\n",
       "      <td>Block</td>\n",
       "      <td>Angles</td>\n",
       "      <td>166.5</td>\n",
       "      <td>NaN</td>\n",
       "      <td>NaN</td>\n",
       "      <td>0</td>\n",
       "      <td>NaN</td>\n",
       "      <td>11/06/2010 12:00:00 AM +0000</td>\n",
       "      <td>...</td>\n",
       "      <td>Matched</td>\n",
       "      <td>N</td>\n",
       "      <td>2</td>\n",
       "      <td>Overcast</td>\n",
       "      <td>0</td>\n",
       "      <td>(47.68692783600005, -122.339782706)</td>\n",
       "      <td>0</td>\n",
       "      <td>0</td>\n",
       "      <td>N</td>\n",
       "      <td>10-388295</td>\n",
       "    </tr>\n",
       "    <tr>\n",
       "      <th>4</th>\n",
       "      <td>113857</td>\n",
       "      <td>113857</td>\n",
       "      <td>Intersection</td>\n",
       "      <td>Sideswipe</td>\n",
       "      <td>0.0</td>\n",
       "      <td>NaN</td>\n",
       "      <td>NaN</td>\n",
       "      <td>0</td>\n",
       "      <td>NaN</td>\n",
       "      <td>04/21/2010 12:00:00 AM +0000</td>\n",
       "      <td>...</td>\n",
       "      <td>Matched</td>\n",
       "      <td>0</td>\n",
       "      <td>2</td>\n",
       "      <td>Raining</td>\n",
       "      <td>0</td>\n",
       "      <td>(47.534147768000025, -122.33213265299997)</td>\n",
       "      <td>0</td>\n",
       "      <td>0</td>\n",
       "      <td>N</td>\n",
       "      <td>10-129611</td>\n",
       "    </tr>\n",
       "    <tr>\n",
       "      <th>5</th>\n",
       "      <td>113856</td>\n",
       "      <td>113856</td>\n",
       "      <td>Intersection</td>\n",
       "      <td>Angles</td>\n",
       "      <td>0.0</td>\n",
       "      <td>NaN</td>\n",
       "      <td>NaN</td>\n",
       "      <td>0</td>\n",
       "      <td>NaN</td>\n",
       "      <td>04/19/2010 12:00:00 AM +0000</td>\n",
       "      <td>...</td>\n",
       "      <td>Matched</td>\n",
       "      <td>N</td>\n",
       "      <td>2</td>\n",
       "      <td>Clear or Partly Cloudy</td>\n",
       "      <td>0</td>\n",
       "      <td>(47.665042553000035, -122.37076455899995)</td>\n",
       "      <td>0</td>\n",
       "      <td>0</td>\n",
       "      <td>N</td>\n",
       "      <td>10-127156</td>\n",
       "    </tr>\n",
       "  </tbody>\n",
       "</table>\n",
       "<p>5 rows × 42 columns</p>\n",
       "</div>"
      ],
      "text/plain": [
       "          INCKEY  COLDETKEY      ADDRTYPE COLLISIONTYPE  DISTANCE  \\\n",
       "OBJECTID                                                            \n",
       "1         113860     113860         Block         Other     161.0   \n",
       "2         113859     113859  Intersection    Pedestrian       0.0   \n",
       "3         114135     114135         Block        Angles     166.5   \n",
       "4         113857     113857  Intersection     Sideswipe       0.0   \n",
       "5         113856     113856  Intersection        Angles       0.0   \n",
       "\n",
       "         EXCEPTRSNCODE EXCEPTRSNDESC  FATALITIES INATTENTIONIND  \\\n",
       "OBJECTID                                                          \n",
       "1                  NaN           NaN           0            NaN   \n",
       "2                                NaN           0            NaN   \n",
       "3                  NaN           NaN           0            NaN   \n",
       "4                  NaN           NaN           0            NaN   \n",
       "5                  NaN           NaN           0            NaN   \n",
       "\n",
       "                               INCDATE    ...       STATUS  UNDERINFL  \\\n",
       "OBJECTID                                  ...                           \n",
       "1         06/30/2010 12:00:00 AM +0000    ...      Matched          N   \n",
       "2         06/03/2010 12:00:00 AM +0000    ...      Matched          N   \n",
       "3         11/06/2010 12:00:00 AM +0000    ...      Matched          N   \n",
       "4         04/21/2010 12:00:00 AM +0000    ...      Matched          0   \n",
       "5         04/19/2010 12:00:00 AM +0000    ...      Matched          N   \n",
       "\n",
       "          VEHCOUNT                 WEATHER WIDTH  \\\n",
       "OBJECTID                                           \n",
       "1                2  Clear or Partly Cloudy     0   \n",
       "2                1  Clear or Partly Cloudy     0   \n",
       "3                2                Overcast     0   \n",
       "4                2                 Raining     0   \n",
       "5                2  Clear or Partly Cloudy     0   \n",
       "\n",
       "                                              Shape  SEGLANEKEY  CROSSWALKKEY  \\\n",
       "OBJECTID                                                                        \n",
       "1         (47.605141668000044, -122.33281320099996)           0             0   \n",
       "2         (47.616802233000044, -122.34437532899994)           0        522632   \n",
       "3               (47.68692783600005, -122.339782706)           0             0   \n",
       "4         (47.534147768000025, -122.33213265299997)           0             0   \n",
       "5         (47.665042553000035, -122.37076455899995)           0             0   \n",
       "\n",
       "         HITPARKEDCAR  SPDCASENO  \n",
       "OBJECTID                          \n",
       "1                   N  10-222469  \n",
       "2                   N  10-184864  \n",
       "3                   N  10-388295  \n",
       "4                   N  10-129611  \n",
       "5                   N  10-127156  \n",
       "\n",
       "[5 rows x 42 columns]"
      ]
     },
     "execution_count": 1,
     "metadata": {},
     "output_type": "execute_result"
    }
   ],
   "source": [
    "import numpy as np\n",
    "import pandas as pd\n",
    "%matplotlib inline\n",
    "import matplotlib.pyplot as plt\n",
    "import requests\n",
    "df_accidents = pd.read_csv('C:/Users/Michael/Downloads/SDOT_Collisions.csv',index_col='OBJECTID')\n",
    "print df_accidents.columns\n",
    "df_accidents.head()"
   ]
  },
  {
   "cell_type": "markdown",
   "metadata": {},
   "source": [
    "There is a lot of analysis that can be done with this data, for example we can see that an accident is much more likely to be fatal at night then it is during the day.  "
   ]
  },
  {
   "cell_type": "code",
   "execution_count": 2,
   "metadata": {
    "collapsed": false
   },
   "outputs": [
    {
     "data": {
      "image/png": "[encoded data removed]",
      "text/plain": [
       "<matplotlib.figure.Figure at 0x12b7e898>"
      ]
     },
     "metadata": {},
     "output_type": "display_data"
    }
   ],
   "source": [
    "df_accidents['FT']=df_accidents['FATALITIES']>0\n",
    "fig = plt.figure(figsize=(10,5))\n",
    "ax = fig.add_subplot(1,2,1)\n",
    "(100*df_accidents.groupby('LIGHTCOND').FT.sum()/df_accidents.groupby('LIGHTCOND').FT.count()).plot(kind='bar',axes=ax)\n",
    "ax.set_ylabel('Percentage of fatal accidents')\n",
    "plt.show()"
   ]
  },
  {
   "cell_type": "markdown",
   "metadata": {},
   "source": [
    "However, what we are primarly interested in is the relationship between yellow light timing and the grade of a road approaching an intersection.   Simply put, if the road approaching an intersection has a 20% grade, it will take much longer to stop at, and should therefore a longer light time.  Using methodology per the Institute of Transportation Engineers, Ondrej calculated recommended yellow light lengths for typical posted speeds and grades found in Seattle."
   ]
  },
  {
   "cell_type": "code",
   "execution_count": 3,
   "metadata": {
    "collapsed": false,
    "scrolled": true
   },
   "outputs": [
    {
     "data": {
      "image/png": "[encoded data removed]",
      "text/plain": [
       "<matplotlib.figure.Figure at 0xf90ecc0>"
      ]
     },
     "metadata": {},
     "output_type": "display_data"
    }
   ],
   "source": [
    "df_grade_timing = pd.read_csv('C:/Users/Michael/Downloads/Sheet_1_data.csv')\n",
    "df_grade_timing.columns = ['Grade (%)','Speed','Yellow_Light_Time']\n",
    "colors = ['red','yellow','blue','cyan','magenta','grey']\n",
    "for color,speed in zip(colors,np.unique(df_grade_timing['Speed'])):\n",
    "    x = df_grade_timing[df_grade_timing['Speed']==speed]['Grade (%)']\n",
    "    y = df_grade_timing[df_grade_timing['Speed']==speed]['Yellow_Light_Time']\n",
    "    plt.plot(x,y,c=color,label=speed)\n",
    "plt.xlabel('Grade')\n",
    "plt.ylabel('Reccommended timing')\n",
    "plt.legend(loc='upper right')\n",
    "plt.title('Recommended yellow light length for varying speed and approach grades')\n",
    "plt.show()"
   ]
  },
  {
   "cell_type": "markdown",
   "metadata": {},
   "source": [
    "To analyze this, we will need to download two more datasets, one of which is the street network database (https://data.seattle.gov/dataset/Street-Network-Database/afip-2mzr), which is an esri shape fileset containing information about all streets in the seattle area, and the intersection database which is a simple csv file (https://data.seattle.gov/Transportation/SDOT-Intersections/2az7-96yc).   To open the shape file, I will use geopandas, which is a library which allows you to open a .shp file into a pandas dataframe.  From these files, we will be able to obtain the grades of roads at each intersection within Seattle."
   ]
  },
  {
   "cell_type": "code",
   "execution_count": 4,
   "metadata": {
    "collapsed": false
   },
   "outputs": [
    {
     "name": "stdout",
     "output_type": "stream",
     "text": [
      "Index([u'ACCESS_COD', u'AGENCY_COD', u'ARTERIAL_C',   u'CITYCODE',\n",
      "          u'COMPKEY',   u'COMPTYPE', u'DIVIDED_CO',  u'F_INTR_ID',\n",
      "       u'GIS_SEG_LE', u'LEGALLOC_C', u'L_ADRS_FRO',  u'L_ADRS_TO',\n",
      "           u'L_CITY',    u'L_STATE',      u'L_ZIP', u'ORD_PRE_DI',\n",
      "       u'ORD_STNAME', u'ORD_STREET', u'ORD_STRE_1', u'ORD_SUF_DI',\n",
      "       u'R_ADRS_FRO',  u'R_ADRS_TO',     u'R_CITY',    u'R_STATE',\n",
      "            u'R_ZIP', u'SEGMENT_TY', u'SHAPE_Leng', u'SNDSEG_UPD',\n",
      "       u'SND_FEACOD',     u'SND_ID',  u'STNAME_ID', u'STRUCTURE_',\n",
      "          u'ST_CODE',  u'T_INTR_ID',     u'UNITID',    u'UNITID2',\n",
      "       u'VEHICLE_US',   u'geometry'],\n",
      "      dtype='object')\n"
     ]
    }
   ],
   "source": [
    "import geopandas as gpd\n",
    "gdf_streets = gpd.read_file('C:/Users/Michael/Downloads/Street_Network_Database/WGS84/Street_Network_Database.dbf')\n",
    "print gdf_streets.columns"
   ]
  },
  {
   "cell_type": "code",
   "execution_count": 5,
   "metadata": {
    "collapsed": false
   },
   "outputs": [
    {
     "name": "stdout",
     "output_type": "stream",
     "text": [
      "Index([u'OBJECTID', u'INTR_ID', u'GIS_XCOORD', u'GIS_YCOORD', u'COMPKEY',\n",
      "       u'COMPTYPE', u'UNITID', u'SUBAREA', u'UNITDESC', u'ARTERIALCLASSCD',\n",
      "       u'SHAPE', u'SIGNAL_MAINT_DIST', u'SIGNAL_TYPE'],\n",
      "      dtype='object')\n"
     ]
    }
   ],
   "source": [
    "df_inter = pd.read_csv('C:/Users/Michael/Downloads/SDOT_intersections.csv')\n",
    "print df_inter.columns\n"
   ]
  },
  {
   "cell_type": "markdown",
   "metadata": {},
   "source": [
    "The street network database includes all segments of streets.  The intersection at which the street begins is given in the column 'F_INTR_ID' and the intersection that the segment ends on is given by the column 'T_INTR_ID', where these columns refer to the 'INTR_ID' column in the intersections database.   To get the grades of the four roads associated with each intersection, we will use google's api for accessing elevation data.  Since this api is rate limited, we will first only focus on a subset of the data.  \n",
    "\n",
    "Google's elevation api takes the generic address https://maps.googleapis.com/maps/api/elevation/outputFormat?parameters valid output formats are json and xml. A sample request would look like https://maps.googleapis.com/maps/api/elevation/json?locations=39.7391536,-104.9847034&key=YOUR_API_KEY, The location is a pair of comma seperated values, and the arguments are seperated by a single ampersand (&) sign.  Locations may also consist of multiple locations seperated by a '|' character."
   ]
  },
  {
   "cell_type": "code",
   "execution_count": 6,
   "metadata": {
    "collapsed": false
   },
   "outputs": [],
   "source": [
    "def get_elevation(lat_lon_list,reverse_order=False):\n",
    "    \"\"\"Finds the elevation of several pairs of latitude and longitude.\n",
    "    \n",
    "    Parameters:\n",
    "    --------------\n",
    "    lat_lon_list: \n",
    "        A list of latitude-longitude pairs to find the elevation of.  The pairs are assumed\n",
    "        to be in the form (latitude,longitude).  If pairs are in reverse order, i.e. (longi-\n",
    "        tude,latitude), use reverse_order=true\n",
    "    reverse_order: Boolean\n",
    "        whether the pairs are given as longitude latitude pairs\n",
    "        \n",
    "    Returns\n",
    "    ----------\n",
    "    A list of elvations corresponding to each latitude longitude pair given.\n",
    "    Elevations are returned in feet.  \n",
    "    \n",
    "    Throws \n",
    "    -----------\n",
    "    Exception corresponding to the error thrown by googles elevation api, includes:\n",
    "        INVALID_REQUEST indicating the API request was malformed. \n",
    "        OVER_QUERY_LIMIT indicating the requestor has exceeded quota. \n",
    "        REQUEST_DENIED indicating the API did not complete the request. \n",
    "        UNKNOWN_ERROR indicating an unknown error.\n",
    "        \n",
    "    \"\"\"\n",
    "    key = 'YOUR_API_KEY'\n",
    "    lat_lon_string = \"\"\n",
    "    if reverse_order:\n",
    "        for pair in lat_lon_list:\n",
    "            lat_lon_string = lat_lon_string + \"{},{}\".format(pair[1],pair[0]) + \"|\"\n",
    "    else:\n",
    "        for pair in lat_lon_list:\n",
    "            lat_lon_string = lat_lon_string + \"{},{}\".format(pair[0],pair[1]) + \"|\"\n",
    "    lat_lon_string = lat_lon_string[:len(lat_lon_string)-1]     #Don't include the | at the end.  \n",
    "    url = 'https://maps.googleapis.com/maps/api/elevation/json?locations={}&key={}'\\\n",
    "            .format(lat_lon_string,key)\n",
    "    resp = requests.get(url).json()\n",
    "    if resp['status']=='OK':\n",
    "        return [res['elevation'] for res in resp['results']]\n",
    "    else:\n",
    "        raise Exception(resp['status'])\n",
    "small_df_inter = df_inter.iloc[:100,:]"
   ]
  },
  {
   "cell_type": "markdown",
   "metadata": {},
   "source": [
    "We will also need the distance between two latitude and longitude pairs"
   ]
  },
  {
   "cell_type": "code",
   "execution_count": 7,
   "metadata": {
    "collapsed": false
   },
   "outputs": [],
   "source": [
    "import math\n",
    "def lat_long_distance(p1,p2,reverse_order=False):\n",
    "    \"\"\"\n",
    "    Finds the distance (in feet) between two pairs of lattitude and longitude on the earth.  This is done \n",
    "    using a flat earth approximation (valid for small distances)\n",
    "    \"\"\"\n",
    "    radius_of_earth = 20.9*10**6\n",
    "    #convert lat and lon to polar coordinates theta and phi\n",
    "    theta_1,theta_2 = (90-p1[0])* np.pi/180,(90-p2[0])*np.pi/180\n",
    "    phi_1,phi_2 = p1[1]*np.pi/180,p2[1]*np.pi/180\n",
    "    if reverse_order:\n",
    "        theta_1,phi_1 = phi_1,theta_1\n",
    "        theta_2,phi_2 = phi_2,theta_2\n",
    "    distance =  np.sqrt(2)*radius_of_earth*np.sqrt(1- np.cos(theta_1)*np.cos(theta_2) - \n",
    "                    np.sin(theta_1)*np.sin(theta_2)*(np.cos(phi_1)*np.cos(phi_2) + np.sin(phi_1)*np.sin(phi_2)))\n",
    "    if not math.isnan(distance):\n",
    "        return distance\n",
    "    else:\n",
    "        return 0"
   ]
  },
  {
   "cell_type": "markdown",
   "metadata": {},
   "source": [
    "To convert the street segment into an grade near the intersection, we follow a 2 step process.  We take the first (or last two points, and then by drawing a strait line connecting these points, find a point Delta feet away on the strait line.  We then find the elevation difference between the two points, and devide this by the distance Delta to get the grade.  "
   ]
  },
  {
   "cell_type": "code",
   "execution_count": 8,
   "metadata": {
    "collapsed": false
   },
   "outputs": [],
   "source": [
    "def find_grade(lineString,backwards=False):\n",
    "    \"\"\"\n",
    "    Finds the grade of a road segment, given a shapely.geometry.linestring.LineString element \n",
    "    representing it.   The grade is returned as the grade as seen from the intersection looking out.\n",
    "    \n",
    "    Parameters:\n",
    "    ------------------\n",
    "    lineString: a shapely.geometry.linestring.LineString element describing the road\n",
    "        segment in question\n",
    "    backwards: boolean, If you wish to calculate the grade at the end of the line segment, pass True.\n",
    "        default = False\n",
    "        \n",
    "    Returns:\n",
    "    ----------------\n",
    "    a float showing the grade of the road, as viewed from the intersection in question.\n",
    "        (a road which is sloping down into the intersection will have a positive grade.)\n",
    "    \n",
    "    Throws:\n",
    "    ----------------\n",
    "    Exception corresponding to the error thrown by googles elevation api, includes:\n",
    "        INVALID_REQUEST indicating the API request was malformed. \n",
    "        OVER_QUERY_LIMIT indicating the requestor has exceeded quota. \n",
    "        REQUEST_DENIED indicating the API did not complete the request. \n",
    "        UNKNOWN_ERROR indicating an unknown error.        \n",
    "\n",
    "    \"\"\"\n",
    "    Delta = 100 #distance to calculate slopes from\n",
    "    if not backwards:\n",
    "        point_1 = np.array(lineString.coords[0])\n",
    "        point_2 = np.array(lineString.coords[1])\n",
    "    else:\n",
    "        point_1 = np.array(lineString.coords[len(lineString.coords)-1])\n",
    "        point_2 = np.array(lineString.coords[len(lineString.coords)-2])\n",
    "    dist = lat_long_distance(point_1,point_2,reverse_order=True)\n",
    "    delta = point_2-point_1\n",
    "    normalized_point_2 = point_1 + delta*Delta/dist\n",
    "    elevations = get_elevation([point_1,normalized_point_2],reverse_order=True)\n",
    "    elevation_diff = elevations[1]-elevations[0]\n",
    "    return elevation_diff/lat_long_distance(point_1,normalized_point_2,reverse_order=True)"
   ]
  },
  {
   "cell_type": "code",
   "execution_count": 9,
   "metadata": {
    "collapsed": false
   },
   "outputs": [
    {
     "data": {
      "text/html": [
       "<div>\n",
       "<table border=\"1\" class=\"dataframe\">\n",
       "  <thead>\n",
       "    <tr style=\"text-align: right;\">\n",
       "      <th></th>\n",
       "      <th>ORD_STNAME</th>\n",
       "      <th>geometry</th>\n",
       "      <th>backwards</th>\n",
       "      <th>grade</th>\n",
       "    </tr>\n",
       "  </thead>\n",
       "  <tbody>\n",
       "    <tr>\n",
       "      <th>5089</th>\n",
       "      <td>E SPRUCE ST</td>\n",
       "      <td>LINESTRING (-122.30635024 47.60351265000003, -...</td>\n",
       "      <td>False</td>\n",
       "      <td>-0.022066</td>\n",
       "    </tr>\n",
       "    <tr>\n",
       "      <th>16335</th>\n",
       "      <td>20TH AVE</td>\n",
       "      <td>LINESTRING (-122.30635024 47.60351265000003, -...</td>\n",
       "      <td>False</td>\n",
       "      <td>-0.002634</td>\n",
       "    </tr>\n",
       "    <tr>\n",
       "      <th>23732</th>\n",
       "      <td>E SPRUCE ST</td>\n",
       "      <td>LINESTRING (-122.30765933 47.60351443100007, -...</td>\n",
       "      <td>True</td>\n",
       "      <td>0.005272</td>\n",
       "    </tr>\n",
       "    <tr>\n",
       "      <th>30874</th>\n",
       "      <td>20TH AVE</td>\n",
       "      <td>LINESTRING (-122.306349671 47.60267346200004, ...</td>\n",
       "      <td>True</td>\n",
       "      <td>-0.002420</td>\n",
       "    </tr>\n",
       "  </tbody>\n",
       "</table>\n",
       "</div>"
      ],
      "text/plain": [
       "        ORD_STNAME                                           geometry  \\\n",
       "5089   E SPRUCE ST  LINESTRING (-122.30635024 47.60351265000003, -...   \n",
       "16335     20TH AVE  LINESTRING (-122.30635024 47.60351265000003, -...   \n",
       "23732  E SPRUCE ST  LINESTRING (-122.30765933 47.60351443100007, -...   \n",
       "30874     20TH AVE  LINESTRING (-122.306349671 47.60267346200004, ...   \n",
       "\n",
       "      backwards     grade  \n",
       "5089      False -0.022066  \n",
       "16335     False -0.002634  \n",
       "23732      True  0.005272  \n",
       "30874      True -0.002420  "
      ]
     },
     "execution_count": 9,
     "metadata": {},
     "output_type": "execute_result"
    }
   ],
   "source": [
    "def intersection_grades(intr_id):\n",
    "    \"\"\"Find the grades of every road connecting to an intersection\n",
    "    \n",
    "    Parameters\n",
    "    -------------\n",
    "    intr_id: unique integer corresponding to the id of an intersection in \n",
    "        Seattles street and intersection database\n",
    "    \n",
    "    Returns:\n",
    "    -------------\n",
    "    A dataframe with the following columns:\n",
    "        ORD_STNAME: the name of the street\n",
    "        geometry: a shapely.geometry.linestring.LineString object describing\n",
    "                the road segment.\n",
    "        backwards: Whether the intersection is at the back (True) or front (false) of the line segment\n",
    "        grade: The grade of the near teh intersection, as viewed from the intersection\n",
    "        \n",
    "    Throws:\n",
    "    -------------\n",
    "    Exceptions generated from calls to the google elevation API, includes:\n",
    "        INVALID_REQUEST indicating the API request was malformed. \n",
    "        OVER_QUERY_LIMIT indicating the requestor has exceeded quota. \n",
    "        REQUEST_DENIED indicating the API did not complete the request. \n",
    "        UNKNOWN_ERROR indicating an unknown error.        \n",
    "        \n",
    "    \"\"\"\n",
    "    df_intersecting = gdf_streets[(gdf_streets['F_INTR_ID']==intr_id) | (gdf_streets['T_INTR_ID']==intr_id)]\n",
    "    df_intersecting = df_intersecting[['ORD_STNAME',u'geometry','T_INTR_ID']]\n",
    "    df_intersecting['backwards'] = df_intersecting['T_INTR_ID']==intr_id\n",
    "    del df_intersecting['T_INTR_ID']\n",
    "    df_intersecting['grade'] = df_intersecting.apply(lambda x:find_grade(x[1],backwards=x[2]),axis=1)\n",
    "    return df_intersecting\n",
    "intersection_grades(12337)"
   ]
  },
  {
   "cell_type": "markdown",
   "metadata": {},
   "source": [
    "Now that we can compute the grades of any intersection, lets try this out on a dataset, the set of intersections is 15422 rows long, which means finding the grade of every intersection will quickly exceed googles elevation api rate limit.  We will restrict ourselves to signals which are ran by the city.  The possible values for the column SIGNAL_TYPE are [' ', 'CITY', 'FS', 'HALFPED', 'MIDXWALK', 'NONE', 'STATE'].   There are 974 rows with the name of CITY.  To make sure we don't exceed the API rate, we will additionally only consider a subset of 10 of these"
   ]
  },
  {
   "cell_type": "code",
   "execution_count": 10,
   "metadata": {
    "collapsed": false
   },
   "outputs": [
    {
     "data": {
      "text/html": [
       "<div>\n",
       "<table border=\"1\" class=\"dataframe\">\n",
       "  <thead>\n",
       "    <tr style=\"text-align: right;\">\n",
       "      <th></th>\n",
       "      <th>UNITDESC</th>\n",
       "      <th>INTR_ID</th>\n",
       "      <th>GRADES</th>\n",
       "    </tr>\n",
       "  </thead>\n",
       "  <tbody>\n",
       "    <tr>\n",
       "      <th>6</th>\n",
       "      <td>8TH AVE N AND WESTLAKE N AVE N</td>\n",
       "      <td>47040</td>\n",
       "      <td>ORD_STNAME     grade\n",
       "4768   WESTLAK...</td>\n",
       "    </tr>\n",
       "    <tr>\n",
       "      <th>27</th>\n",
       "      <td>5TH AVE S AND S WELLER ST</td>\n",
       "      <td>12662</td>\n",
       "      <td>ORD_STNAME     grade\n",
       "30702    5TH AVE ...</td>\n",
       "    </tr>\n",
       "    <tr>\n",
       "      <th>31</th>\n",
       "      <td>14TH AVE S AND S TRENTON ST</td>\n",
       "      <td>18115</td>\n",
       "      <td>ORD_STNAME     grade\n",
       "3343     14TH AV...</td>\n",
       "    </tr>\n",
       "    <tr>\n",
       "      <th>69</th>\n",
       "      <td>24TH AVE NW AND NW 80TH ST</td>\n",
       "      <td>5125</td>\n",
       "      <td>ORD_STNAME     grade\n",
       "7736   24TH AVE N...</td>\n",
       "    </tr>\n",
       "    <tr>\n",
       "      <th>84</th>\n",
       "      <td>6TH AVE S AND S LANDER ST</td>\n",
       "      <td>13764</td>\n",
       "      <td>ORD_STNAME     grade\n",
       "7269   S LANDER S...</td>\n",
       "    </tr>\n",
       "  </tbody>\n",
       "</table>\n",
       "</div>"
      ],
      "text/plain": [
       "                          UNITDESC  INTR_ID  \\\n",
       "6   8TH AVE N AND WESTLAKE N AVE N    47040   \n",
       "27       5TH AVE S AND S WELLER ST    12662   \n",
       "31     14TH AVE S AND S TRENTON ST    18115   \n",
       "69      24TH AVE NW AND NW 80TH ST     5125   \n",
       "84       6TH AVE S AND S LANDER ST    13764   \n",
       "\n",
       "                                               GRADES  \n",
       "6              ORD_STNAME     grade\n",
       "4768   WESTLAK...  \n",
       "27          ORD_STNAME     grade\n",
       "30702    5TH AVE ...  \n",
       "31           ORD_STNAME     grade\n",
       "3343     14TH AV...  \n",
       "69          ORD_STNAME     grade\n",
       "7736   24TH AVE N...  \n",
       "84          ORD_STNAME     grade\n",
       "7269   S LANDER S...  "
      ]
     },
     "execution_count": 10,
     "metadata": {},
     "output_type": "execute_result"
    }
   ],
   "source": [
    "df_inter_short = df_inter[df_inter['SIGNAL_TYPE']=='CITY'].iloc[:10,:]\n",
    "df_inter_short = df_inter_short[['UNITDESC','INTR_ID']]\n",
    "df_inter_short['GRADES'] = df_inter_short['INTR_ID'].map(lambda x : intersection_grades(x)[['ORD_STNAME','grade']])\n",
    "df_inter_short.head()"
   ]
  },
  {
   "cell_type": "markdown",
   "metadata": {},
   "source": [
    "The last column Grades contains a dataframe with all of the streets attaching to that intersection, along with their grades.  "
   ]
  },
  {
   "cell_type": "code",
   "execution_count": 11,
   "metadata": {
    "collapsed": false
   },
   "outputs": [
    {
     "data": {
      "text/html": [
       "<div>\n",
       "<table border=\"1\" class=\"dataframe\">\n",
       "  <thead>\n",
       "    <tr style=\"text-align: right;\">\n",
       "      <th></th>\n",
       "      <th>ORD_STNAME</th>\n",
       "      <th>grade</th>\n",
       "    </tr>\n",
       "  </thead>\n",
       "  <tbody>\n",
       "    <tr>\n",
       "      <th>4768</th>\n",
       "      <td>WESTLAKE AVE N</td>\n",
       "      <td>0.000700</td>\n",
       "    </tr>\n",
       "    <tr>\n",
       "      <th>7150</th>\n",
       "      <td>GALER ST</td>\n",
       "      <td>-0.000877</td>\n",
       "    </tr>\n",
       "    <tr>\n",
       "      <th>9218</th>\n",
       "      <td>WESTLAKE AVE N</td>\n",
       "      <td>-0.000036</td>\n",
       "    </tr>\n",
       "    <tr>\n",
       "      <th>12455</th>\n",
       "      <td>8TH AVE N</td>\n",
       "      <td>0.028206</td>\n",
       "    </tr>\n",
       "  </tbody>\n",
       "</table>\n",
       "</div>"
      ],
      "text/plain": [
       "           ORD_STNAME     grade\n",
       "4768   WESTLAKE AVE N  0.000700\n",
       "7150         GALER ST -0.000877\n",
       "9218   WESTLAKE AVE N -0.000036\n",
       "12455       8TH AVE N  0.028206"
      ]
     },
     "execution_count": 11,
     "metadata": {},
     "output_type": "execute_result"
    }
   ],
   "source": [
    "df_inter_short['GRADES'][6]"
   ]
  },
  {
   "cell_type": "code",
   "execution_count": 12,
   "metadata": {
    "collapsed": false
   },
   "outputs": [
    {
     "data": {
      "text/html": [
       "<div>\n",
       "<table border=\"1\" class=\"dataframe\">\n",
       "  <thead>\n",
       "    <tr style=\"text-align: right;\">\n",
       "      <th></th>\n",
       "      <th>ORD_STNAME</th>\n",
       "      <th>grade</th>\n",
       "    </tr>\n",
       "  </thead>\n",
       "  <tbody>\n",
       "    <tr>\n",
       "      <th>30702</th>\n",
       "      <td>5TH AVE S</td>\n",
       "      <td>0.001288</td>\n",
       "    </tr>\n",
       "    <tr>\n",
       "      <th>31417</th>\n",
       "      <td>5TH AVE S</td>\n",
       "      <td>-0.002082</td>\n",
       "    </tr>\n",
       "    <tr>\n",
       "      <th>31980</th>\n",
       "      <td>S WELLER ST</td>\n",
       "      <td>0.002486</td>\n",
       "    </tr>\n",
       "  </tbody>\n",
       "</table>\n",
       "</div>"
      ],
      "text/plain": [
       "        ORD_STNAME     grade\n",
       "30702    5TH AVE S  0.001288\n",
       "31417    5TH AVE S -0.002082\n",
       "31980  S WELLER ST  0.002486"
      ]
     },
     "execution_count": 12,
     "metadata": {},
     "output_type": "execute_result"
    }
   ],
   "source": [
    "df_inter_short['GRADES'][27]"
   ]
  },
  {
   "cell_type": "code",
   "execution_count": null,
   "metadata": {
    "collapsed": false
   },
   "outputs": [],
   "source": []
  },
  {
   "cell_type": "code",
   "execution_count": null,
   "metadata": {
    "collapsed": true
   },
   "outputs": [],
   "source": []
  }
 ],
 "metadata": {
  "anaconda-cloud": {},
  "kernelspec": {
   "display_name": "Python [Root]",
   "language": "python",
   "name": "Python [Root]"
  },
  "language_info": {
   "codemirror_mode": {
    "name": "ipython",
    "version": 2
   },
   "file_extension": ".py",
   "mimetype": "text/x-python",
   "name": "python",
   "nbconvert_exporter": "python",
   "pygments_lexer": "ipython2",
   "version": "2.7.12"
  }
 },
 "nbformat": 4,
 "nbformat_minor": 0
}
